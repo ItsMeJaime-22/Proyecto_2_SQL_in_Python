{
 "cells": [
  {
   "cell_type": "markdown",
   "metadata": {},
   "source": [
    "#### **Importando Librerias Python**"
   ]
  },
  {
   "cell_type": "code",
   "execution_count": 50,
   "metadata": {},
   "outputs": [],
   "source": [
    "from PIL import Image\n",
    "import pandas as pd\n",
    "import sqlalchemy\n",
    "import urllib\n",
    "import matplotlib.pyplot as plt\n",
    "import numpy as np\n",
    "%matplotlib inline\n",
    "# collections as c\n",
    "# Con collections, importamos la libreria y todas sus herramientas.\n",
    "#from collections import defaultdict\n",
    "# Al colocar el from, solo haremos la importación de una herramienta especifica que se encuentra dentro de la libreria \"collections\"\n",
    "from collections import defaultdict as ddict\n",
    "# Ahora le hemos agregado un alias, para no repetir los nombres.\n",
    "import datetime\n",
    "import os\n",
    "import pyodbc as podbc# Conección SQL Server.import pandas as pd\n",
    "import openpyxl\n",
    "import xlrd"
   ]
  },
  {
   "cell_type": "code",
   "execution_count": 51,
   "metadata": {},
   "outputs": [],
   "source": [
    "#%pip install openpyxl"
   ]
  },
  {
   "cell_type": "code",
   "execution_count": 52,
   "metadata": {},
   "outputs": [],
   "source": [
    "#%pip install xlrd"
   ]
  },
  {
   "cell_type": "markdown",
   "metadata": {},
   "source": [
    "#### **Como importar datos de un repositorio en GitHub (Raw)**"
   ]
  },
  {
   "cell_type": "code",
   "execution_count": 53,
   "metadata": {},
   "outputs": [],
   "source": [
    "#df = pd.read_csv('https://raw.githubusercontent.com/BitecodeHTML/https-github.com-mwaskom-seaborn-data/master/tips.csv')\n",
    "\n",
    "#print(df.head())"
   ]
  },
  {
   "cell_type": "code",
   "execution_count": 54,
   "metadata": {},
   "outputs": [],
   "source": [
    "df = pd.read_excel('Nashville Housing Data for Data Cleaning.xlsx')"
   ]
  },
  {
   "cell_type": "code",
   "execution_count": 55,
   "metadata": {},
   "outputs": [
    {
     "name": "stdout",
     "output_type": "stream",
     "text": [
      "       UniqueID           ParcelID                  LandUse                 PropertyAddress   SaleDate  SalePrice    LegalReference SoldAsVacant                            OwnerName                        OwnerAddress  Acreage                TaxDistrict  LandValue  BuildingValue  TotalValue  YearBuilt  Bedrooms  FullBath  HalfBath\n",
      "7585       28138   070 09 0 066.00            SINGLE FAMILY      3104  CURTIS ST, NASHVILLE 2015-03-18      79500  20150325-0025526           No                       BROWN, KYLE A.      3104  CURTIS ST, NASHVILLE, TN     0.19    URBAN SERVICES DISTRICT    18000.0        45800.0     64300.0     1935.0       2.0       1.0       0.0\n",
      "21122       2252   093 08 0 038.00          VACANT RES LAND    1002  GLENVIEW DR, NASHVILLE 2013-04-16      25000  20130424-0040584            N    PIERCE, JAMES E. S. & EMILY J. B.    1002  GLENVIEW DR, NASHVILLE, TN     0.17    URBAN SERVICES DISTRICT    25000.0       256600.0    281600.0     2014.0       3.0       2.0       1.0\n",
      "19949      11680   092 05 0 284.00                   DUPLEX      807  32ND AVE N, NASHVILLE 2014-01-10      35000  20140203-0009342           No          ALAM, SAYED & NASRIN SIDIQI      807  32ND AVE N, NASHVILLE, TN     0.20    URBAN SERVICES DISTRICT    13000.0        62600.0     75600.0     1978.0       4.0       2.0       0.0\n",
      "41965      52969   142 15 0 081.00            SINGLE FAMILY   532 BELLEVUE  RD N, NASHVILLE 2016-08-25     220000  20160830-0090642           No                  GROVER, MARGARET F.   532  BELLEVUE RD N, NASHVILLE, TN     0.30  GENERAL SERVICES DISTRICT    36000.0       119500.0    155500.0     1966.0       3.0       1.0       1.0\n",
      "54121      20399  176 05 0A 080.00            SINGLE FAMILY     6632  SHADYVIEW DR, ANTIOCH 2014-08-26    5491000  20140829-0079368           No                                  NaN                                 NaN      NaN                        NaN        NaN            NaN         NaN        NaN       NaN       NaN       NaN\n",
      "45144       7399   150 07 0 161.00            SINGLE FAMILY  3233  COUNTRY LAWN DR, ANTIOCH 2013-08-23     103000  20130826-0089843           No                        KITARA, GRACE  3233  COUNTRY LAWN DR, ANTIOCH, TN     0.24    URBAN SERVICES DISTRICT    27500.0        80100.0    107600.0     1983.0       3.0       2.0       0.0\n",
      "22696      35251   095 11 0 047.00            SINGLE FAMILY   2412  WOODBERRY DR, NASHVILLE 2015-07-15     163000  20150721-0071194           No                    MCCASLAND, RODNEY   2412  WOODBERRY DR, NASHVILLE, TN     0.39    URBAN SERVICES DISTRICT    27000.0       119200.0    146200.0     1958.0       3.0       1.0       1.0\n",
      "44780      41138   150 01 0 039.00            SINGLE FAMILY   480  RURAL HILL RD, NASHVILLE 2015-11-24     134900  20151204-0122647           No  SVOBODA, FILIP ALBERT & KERRY LEANN   480  RURAL HILL RD, NASHVILLE, TN     0.29    URBAN SERVICES DISTRICT    24000.0        83000.0    107000.0     1965.0       3.0       1.0       1.0\n",
      "14326      33797   082 13 0 364.00            SINGLE FAMILY  900 B  LOCKLAYER ST, NASHVILLE 2015-06-08     332000  20150610-0054645           No                   3L PROPERTIES, LLC   900 B LOCKLAYER ST, NASHVILLE, TN     0.08    URBAN SERVICES DISTRICT    40000.0       168100.0    208100.0     2005.0       3.0       2.0       1.0\n",
      "56152      37550  186 04 0A 387.00  VACANT RESIDENTIAL LAND  9037  MACAULEY LN, NOLENSVILLE 2015-09-04     404090  20150908-0091058          Yes                                  NaN                                 NaN      NaN                        NaN        NaN            NaN         NaN        NaN       NaN       NaN       NaN\n"
     ]
    }
   ],
   "source": [
    "print(df.sample(10))"
   ]
  },
  {
   "cell_type": "markdown",
   "metadata": {},
   "source": [
    "#### **Conexión de base de datos**"
   ]
  },
  {
   "cell_type": "code",
   "execution_count": 56,
   "metadata": {},
   "outputs": [
    {
     "data": {
      "text/plain": [
       "'# Parámetros de conexión\\nserver = \\'DESKTOP-CK3D4E3\\\\SQLEXPRESS02\\'\\n#database = \\'tu_base_de_datos\\'\\n#username = \\'tu_usuario\\'\\n#password = \\'tu_contraseña\\'\\n\\n#! Llevamos a cabo la conexión con el servidor\\n\\nconexion = podbc.connect(driver= \\'{SQL server}\\', host = server)\\n\\nprint(\"Conexión Exitosa\")\\n\\n#! Crear un cursor\\ncursor = conexion.cursor()\\n\\ncursor.execute(\"CREATE DATABASE PORTFOLIO_PROYECT\")\\n\\n#! Nos aseguramos de cerrar la conexión\\n\\nconexion.close()'"
      ]
     },
     "execution_count": 56,
     "metadata": {},
     "output_type": "execute_result"
    }
   ],
   "source": [
    "'''# Parámetros de conexión\n",
    "server = 'DESKTOP-CK3D4E3\\\\SQLEXPRESS02'\n",
    "#database = 'tu_base_de_datos'\n",
    "#username = 'tu_usuario'\n",
    "#password = 'tu_contraseña'\n",
    "\n",
    "#! Llevamos a cabo la conexión con el servidor\n",
    "\n",
    "conexion = podbc.connect(driver= '{SQL server}', host = server)\n",
    "\n",
    "print(\"Conexión Exitosa\")\n",
    "\n",
    "#! Crear un cursor\n",
    "cursor = conexion.cursor()\n",
    "\n",
    "cursor.execute(\"CREATE DATABASE PORTFOLIO_PROYECT\")\n",
    "\n",
    "#! Nos aseguramos de cerrar la conexión\n",
    "\n",
    "conexion.close()'''\n",
    "\n",
    "#! Nos permite crear una base de datos, en nuestro ejemplo es \"PORTFOLIO_PROYECT\".\n",
    "#! Para este ejemplo no vamos a crear una nueva base de datos, porque ya tenemos una que se titula \"PORTFOLIO_PROYECT.\"\n",
    "#! Hemos comentado todo el codigo con '''''', para que no se ejecute."
   ]
  },
  {
   "cell_type": "markdown",
   "metadata": {},
   "source": [
    "#### **Conexión a nuestras DNS**"
   ]
  },
  {
   "cell_type": "markdown",
   "metadata": {},
   "source": [
    "**Cada vez que necesitemos conectarnos a una base de datos,\n",
    "debemos crear un DNS, en nuestro ejemplo tenemos la base de datos \"Portfolio_Proyect\" para ello, apretamos la tecla windows del teclado y nos vamos a la opción \"Herramientas administrativas de windows\" y buscamos el aplicativo que dice \"Origenes de datos ODBC (64 bits), la cual nos la podemos descargar e instalar desde google, luego de ello nos sale un cuadro y vamos a la opción \"Agregar\", en nombre elegimos la opción \"SQL\", luego de ello nos va a pedir un \"nombre\" que le podemos poner cualquiera, pero lo recomendable es que sea la misma de la tabla que tenemos creada en nuestra base de datos SQL, en \"descripción\" no es necesario lo podemos obviar, y en servidor elegimos el servidor al cual estamos conectados, en mi caso es \"DESKTOP-CK3D4E3\\SQLEXPRESS02\", luego le damos dos veces a siguiente y en el cuadro le damos check a la primera opción que nos dice \"Establecer la siguiente base de datos como predeterminada\" y elegimos nuestra base de datos, que en mi caso es \"Portfolio_Proyect\" y por ultimo le damos a siguiente y finalizar, con ello hemos terminado la configuración, ahora podemos usar el nombre de dicho DNS creado en nuestro codigo que se encuentra en nuestro cuaderno de Jupyter Notebook.**"
   ]
  },
  {
   "cell_type": "code",
   "execution_count": 57,
   "metadata": {},
   "outputs": [],
   "source": [
    "def conexion_sql_server():\n",
    "# Nombre de nuestro DSN (puedes cambiarlo al DSN que has configurado)\n",
    "    dsn = 'Portfolio_Proyect'\n",
    "\n",
    "# Cadena de conexión SQLAlchemy utilizando DSN\n",
    "    connection_string = f\"mssql+pyodbc:///?odbc_connect={urllib.parse.quote_plus(f'DSN={dsn};Trusted_Connection=yes')}\"\n",
    "    engine = sqlalchemy.create_engine(connection_string, echo=False)\n",
    "\n",
    "# Devolver la conexión\n",
    "    return engine\n",
    "\n",
    "def select_to_df(sql_query, connection):\n",
    "    try:\n",
    "# Utilizamos la conexión para ejecutar la consulta y cargar los resultados en un DataFrame de Pandas\n",
    "        df = pd.read_sql_query(sql_query, connection)\n",
    "        return df\n",
    "    except Exception as e:\n",
    "        print(e)\n",
    "        return df\n",
    "    \n",
    "#! Vamos a trabajar con el mismo dns \"Portfolio_Proyect\" el cual hace referencia a nuestra base de datos \"PORTFOLIO_PROYECT\"."
   ]
  },
  {
   "cell_type": "code",
   "execution_count": 58,
   "metadata": {},
   "outputs": [
    {
     "name": "stdout",
     "output_type": "stream",
     "text": [
      "       UniqueID           ParcelID            LandUse                    PropertyAddress   SaleDate  SalePrice    LegalReference SoldAsVacant                           OwnerName                      OwnerAddress  ...  YearBuilt Bedrooms  FullBath  HalfBath  SaleDateConverted    PropertySplitAddress  PropertySplitCity  OwnerSplitAddress  OwnerSplitCity OwnerSplitState\n",
      "27077    14501.0   071 08 0 368.00      SINGLE FAMILY           504  EDWIN ST, NASHVILLE 2014-04-08    67500.0  20140411-0030451           No             WALLIS, WILLIAM G., SR.      504  EDWIN ST, NASHVILLE, TN  ...     1949.0      3.0       1.0       0.0         2014-04-08           504  EDWIN ST          NASHVILLE      504  EDWIN ST       NASHVILLE              TN\n",
      "28068     3264.0   071 14 0 081.00    VACANT RES LAND         114 B  FERN AVE, NASHVILLE 2013-05-21   130000.0  20130528-0053171           No         HEITHCOCK CONSTRUCTION, LLC     114 B FERN AVE, NASHVILLE, TN  ...        NaN      NaN       NaN       NaN         2013-05-21         114 B  FERN AVE          NASHVILLE     114 B FERN AVE       NASHVILLE              TN\n",
      "12542    26686.0   150 05 0 048.00      SINGLE FAMILY          428  OWENDALE DR, ANTIOCH 2015-02-19   136500.0  20150219-0014520           No                  RIDLEY, GREGORY K.     428  OWENDALE DR, ANTIOCH, TN  ...     1968.0      3.0       2.0       0.0         2015-02-19        428  OWENDALE DR            ANTIOCH   428  OWENDALE DR         ANTIOCH              TN\n",
      "39591    21546.0  083 13 0B 309.00  RESIDENTIAL CONDO     1015  FATHERLAND ST, NASHVILLE 2014-09-26   235000.0  20140930-0090334           No                                None                              None  ...        NaN      NaN       NaN       NaN         2014-09-26     1015  FATHERLAND ST          NASHVILLE               None            None            None\n",
      "53232    15896.0  109 08 0A 042.00    VACANT RES LAND  3001  COOKS LANDING CT, HERMITAGE 2014-05-15   584100.0  20140515-0041982          Yes                                None                              None  ...        NaN      NaN       NaN       NaN         2014-05-15  3001  COOKS LANDING CT          HERMITAGE               None            None            None\n",
      "50966     9565.0   105 05 0 017.00    VACANT RES LAND        1223  15TH AVE S, NASHVILLE 2013-11-04   549000.0  20131106-0115225           No  WILSON, JOHN T. & MILLNER, MARY A.   1223  15TH AVE S, NASHVILLE, TN  ...     2013.0      5.0       3.0       0.0         2013-11-04        1223  15TH AVE S          NASHVILLE   1223  15TH AVE S       NASHVILLE              TN\n",
      "9988     46114.0   147 04 0 156.00      SINGLE FAMILY       279  RICHBRIAR RD, NASHVILLE 2016-04-11   169900.0  20160414-0035700           No                 HOHNE, ALEX & LINDA  279  RICHBRIAR RD, NASHVILLE, TN  ...     1967.0      3.0       2.0       0.0         2016-04-11       279  RICHBRIAR RD          NASHVILLE  279  RICHBRIAR RD       NASHVILLE              TN\n",
      "37664    14928.0  082 13 0G 105.00  RESIDENTIAL CONDO         303  CRIDDLE ST, NASHVILLE 2014-04-25   168900.0  20140428-0035481           No                                None                              None  ...        NaN      NaN       NaN       NaN         2014-04-25         303  CRIDDLE ST          NASHVILLE               None            None            None\n",
      "21168    41908.0  059 15 0A 133.00      SINGLE FAMILY        933  BORDEAUX PL, NASHVILLE 2015-12-17   214990.0  20151221-0127758           No                                None                              None  ...        NaN      NaN       NaN       NaN         2015-12-17        933  BORDEAUX PL          NASHVILLE               None            None            None\n",
      "1727     34693.0  126 15 0A 029.00      SINGLE FAMILY     7840  FARMINGTON PL, NASHVILLE 2015-07-28   213250.0  20150825-0085878           No                                None                              None  ...        NaN      NaN       NaN       NaN         2015-07-28     7840  FARMINGTON PL          NASHVILLE               None            None            None\n",
      "\n",
      "[10 rows x 25 columns]\n"
     ]
    }
   ],
   "source": [
    "# Conecta a la base de datos\n",
    "conexion = conexion_sql_server()\n",
    "\n",
    "pd.set_option('display.expand_frame_repr', False) #! Muestra los resultados de manera horizontal.\n",
    "\n",
    "# Realizamos la consulta y obtenemos los resultados en un DataFrame\n",
    "df = select_to_df(\"SELECT * FROM NashvilleHousing\", conexion)\n",
    "\n",
    "# Muestra el DataFrame\n",
    "print(df.sample(10))\n",
    "\n",
    "# ! Nos permite ejecutar nuestra tabla \"NashvilleHousing\"\n",
    "# Todo: Nos permite ejecutar nuestra tabla \"NashvilleHousing\"\n",
    "# ? Nos permite ejecutar nuestra tabla \"NashvilleHousing\""
   ]
  },
  {
   "cell_type": "code",
   "execution_count": 11,
   "metadata": {},
   "outputs": [
    {
     "data": {
      "text/plain": [
       "(56477, 25)"
      ]
     },
     "execution_count": 11,
     "metadata": {},
     "output_type": "execute_result"
    }
   ],
   "source": [
    "df.shape\n",
    "\n",
    "#! Nos indica cuantas filas y columnas tenemos en nuestro Data Frame."
   ]
  },
  {
   "cell_type": "code",
   "execution_count": 59,
   "metadata": {},
   "outputs": [
    {
     "data": {
      "text/plain": [
       "'\\nStandardize Date Format\\n'"
      ]
     },
     "execution_count": 59,
     "metadata": {},
     "output_type": "execute_result"
    }
   ],
   "source": [
    "'''\n",
    "Standardize Date Format\n",
    "'''"
   ]
  },
  {
   "cell_type": "code",
   "execution_count": 14,
   "metadata": {},
   "outputs": [
    {
     "name": "stdout",
     "output_type": "stream",
     "text": [
      "Alteración de tabla Exitosa\n"
     ]
    }
   ],
   "source": [
    "# Parámetros de conexión\n",
    "server = 'DESKTOP-CK3D4E3\\\\SQLEXPRESS02'\n",
    "database = 'PORTFOLIO_PROYECT'\n",
    "#username = 'tu_usuario'\n",
    "#password = 'tu_contraseña'\n",
    "\n",
    "# Llevamos a cabo la conexión con el servidor\n",
    "\n",
    "conexion = podbc.connect(driver= '{SQL server}', Database= '{PORTFOLIO_PROYECT}', host = server)\n",
    "\n",
    "print(\"Alteración de tabla Exitosa\")\n",
    "\n",
    "# Crear un cursor\n",
    "cursor = conexion.cursor()\n",
    "\n",
    "# Crear la tabla\n",
    "create_table_query = '''\n",
    "    ALTER TABLE NashvilleHousing\n",
    "        ADD SaleDateConverted Date;\n",
    "'''\n",
    "\n",
    "# EmployeeID INT PRIMARY KEY, \"Nos permite considerar la columna como la llave primaria\"\n",
    "\n",
    "cursor.execute(create_table_query)\n",
    "\n",
    "# Nos aseguramos de cerrar la conexión\n",
    "\n",
    "conexion.commit()\n",
    "conexion.close()\n",
    "\n",
    "#! Nos permite alterar nuestra tabla, en nuestro ejemplo es \"NashvilleHousing\".\n",
    "#! Paso:1"
   ]
  },
  {
   "cell_type": "code",
   "execution_count": 15,
   "metadata": {},
   "outputs": [
    {
     "name": "stdout",
     "output_type": "stream",
     "text": [
      "Actualización de tabla Exitosa\n"
     ]
    }
   ],
   "source": [
    "# Parámetros de conexión\n",
    "server = 'DESKTOP-CK3D4E3\\\\SQLEXPRESS02'\n",
    "database = 'PORTFOLIO_PROYECT'\n",
    "#username = 'tu_usuario'\n",
    "#password = 'tu_contraseña'\n",
    "\n",
    "# Llevamos a cabo la conexión con el servidor\n",
    "\n",
    "conexion = podbc.connect(driver= '{SQL server}', Database= '{PORTFOLIO_PROYECT}', host = server)\n",
    "\n",
    "print(\"Actualización de tabla Exitosa\")\n",
    "\n",
    "# Crear un cursor\n",
    "cursor = conexion.cursor()\n",
    "\n",
    "# Crear la tabla\n",
    "create_table_query = '''\n",
    "    UPDATE NashvilleHousing\n",
    "        SET SaleDateConverted = CONVERT (date, SaleDate);\n",
    "'''\n",
    "\n",
    "# EmployeeID INT PRIMARY KEY, \"Nos permite considerar la columna como la llave primaria\"\n",
    "\n",
    "cursor.execute(create_table_query)\n",
    "\n",
    "# Nos aseguramos de cerrar la conexión\n",
    "\n",
    "conexion.commit()\n",
    "conexion.close()\n",
    "\n",
    "#! Nos permite actualizar nuestra tabla, en nuestro ejemplo es \"NashvilleHousing\".\n",
    "#! Paso:2"
   ]
  },
  {
   "cell_type": "code",
   "execution_count": 16,
   "metadata": {},
   "outputs": [
    {
     "name": "stdout",
     "output_type": "stream",
     "text": [
      "Actualización de tabla Exitosa\n"
     ]
    }
   ],
   "source": [
    "# Parámetros de conexión\n",
    "server = 'DESKTOP-CK3D4E3\\\\SQLEXPRESS02'\n",
    "database = 'PORTFOLIO_PROYECT'\n",
    "#username = 'tu_usuario'\n",
    "#password = 'tu_contraseña'\n",
    "\n",
    "# Llevamos a cabo la conexión con el servidor\n",
    "\n",
    "conexion = podbc.connect(driver= '{SQL server}', Database= '{PORTFOLIO_PROYECT}', host = server)\n",
    "\n",
    "print(\"Actualización de tabla Exitosa\")\n",
    "\n",
    "# Crear un cursor\n",
    "cursor = conexion.cursor()\n",
    "\n",
    "# Crear la tabla\n",
    "create_table_query = '''\n",
    "    SELECT SaleDateConverted, CONVERT (date, SaleDate) AS Date\n",
    "        FROM NashvilleHousing;\n",
    "'''\n",
    "\n",
    "# EmployeeID INT PRIMARY KEY, \"Nos permite considerar la columna como la llave primaria\"\n",
    "\n",
    "cursor.execute(create_table_query)\n",
    "\n",
    "# Nos aseguramos de cerrar la conexión\n",
    "\n",
    "conexion.commit()\n",
    "conexion.close()\n",
    "\n",
    "#! Nos permite transformar nuestra tabla, en nuestro ejemplo es \"NashvilleHousing\".\n",
    "#! Paso:3"
   ]
  },
  {
   "cell_type": "code",
   "execution_count": 17,
   "metadata": {},
   "outputs": [
    {
     "name": "stdout",
     "output_type": "stream",
     "text": [
      "       UniqueID           ParcelID                  LandUse                     PropertyAddress   SaleDate  SalePrice    LegalReference SoldAsVacant                             OwnerName                        OwnerAddress  Acreage              TaxDistrict  LandValue  BuildingValue  TotalValue  YearBuilt  Bedrooms  FullBath  HalfBath SaleDateConverted\n",
      "14095    37109.0  151 01 0A 157.00            SINGLE FAMILY         3120  KENNEBECK PL, ANTIOCH 2015-08-14   165000.0  20150819-0083618           No                                  None                                None      NaN                     None        NaN            NaN         NaN        NaN       NaN       NaN       NaN        2015-08-14\n",
      "51026    20497.0   105 04 0 025.00  VACANT RESIDENTIAL LAND           30  TRIMBLE ST, NASHVILLE 2014-09-19    65000.0  20140923-0087204           No               KITTLEMAN, RIKK ANTHONY       30  TRIMBLE ST, NASHVILLE, TN     0.07  URBAN SERVICES DISTRICT     1000.0            0.0      1000.0        NaN       NaN       NaN       NaN        2014-09-19\n",
      "25566    26429.0  064 16 0A 139.00        RESIDENTIAL CONDO  139  GENERAL JACKSON LN, HERMITAGE 2015-01-05    82500.0  20150114-0003930           No                                  None                                None      NaN                     None        NaN            NaN         NaN        NaN       NaN       NaN       NaN        2015-01-05\n",
      "16655     5781.0  049 01 0B 023.00          VACANT RES LAND  616  CHERRY GROVE PT, WHITES CREEK 2013-07-18   129000.0  20130719-0074736          Yes                                  None                                None      NaN                     None        NaN            NaN         NaN        NaN       NaN       NaN       NaN        2013-07-18\n",
      "50453     4084.0   104 14 0 316.00            SINGLE FAMILY     2902 B  W LINDEN AVE, NASHVILLE 2013-06-17   770000.0  20130620-0063420           No         STEINER, GAIL & LEVINE, ROGER  2902 B W LINDEN AVE, NASHVILLE, TN     0.21  URBAN SERVICES DISTRICT   214500.0       422900.0    670400.0     2013.0       3.0       3.0       0.0        2013-06-17\n",
      "29746    42061.0   072 07 0 301.00            SINGLE FAMILY         2200  GENEIVA DR, NASHVILLE 2015-12-15   220000.0  20151216-0126663           No  SORENSON, HANS S. & SMITH, LAUREN L.     2200  GENEIVA DR, NASHVILLE, TN     0.30  URBAN SERVICES DISTRICT    30000.0        86700.0    116700.0     1954.0       2.0       2.0       0.0        2015-12-15\n",
      "37672    49471.0  082 13 0D 101.00        RESIDENTIAL CONDO          1204 6TH  AVE N, NASHVILLE 2016-05-05   230000.0  20160510-0046206           No                                  None                                None      NaN                     None        NaN            NaN         NaN        NaN       NaN       NaN       NaN        2016-05-05\n",
      "15236    54650.0  043 10 0A 014.00        RESIDENTIAL CONDO          555 N DUPONT  AVE, MADISON 2016-09-14   123000.0  20160919-0098102          Yes                                  None                                None      NaN                     None        NaN            NaN         NaN        NaN       NaN       NaN       NaN        2016-09-14\n",
      "28669    44183.0   072 03 0 384.00            SINGLE FAMILY         1111  HOWARD AVE, NASHVILLE 2016-02-12   268000.0  20160216-0014186           No                       ADCOCK, CHARLES     1111  HOWARD AVE, NASHVILLE, TN     0.26  URBAN SERVICES DISTRICT    37000.0       151700.0    188700.0     2002.0       3.0       2.0       0.0        2016-02-12\n",
      "43566    32383.0   092 13 0 047.00            SINGLE FAMILY           3714  PARK AVE, NASHVILLE 2015-06-24   140000.0  20150625-0061181           No                  S.M. PROPERTIES, LLC       3714  PARK AVE, NASHVILLE, TN     0.17  URBAN SERVICES DISTRICT    65000.0        71300.0    139600.0     1920.0       3.0       1.0       0.0        2015-06-24\n"
     ]
    }
   ],
   "source": [
    "# Conecta a la base de datos\n",
    "conexion = conexion_sql_server()\n",
    "\n",
    "pd.set_option('display.expand_frame_repr', False) #! Muestra los resultados de manera horizontal.\n",
    "\n",
    "# Realizamos la consulta y obtenemos los resultados en un DataFrame\n",
    "df = select_to_df('''SELECT *\n",
    "                        FROM NashvilleHousing;''', conexion)\n",
    "\n",
    "# Muestra el DataFrame\n",
    "print(df.sample(10))\n",
    "\n",
    "#! Nos permite ejecutar nuestra tabla \"NashvilleHousing\"\n",
    "#! Nos permite visualizar la nueva columna \"SaleDateConverted\"."
   ]
  },
  {
   "cell_type": "code",
   "execution_count": 18,
   "metadata": {},
   "outputs": [
    {
     "data": {
      "text/plain": [
       "'\\nPopulate Property Address data\\n'"
      ]
     },
     "execution_count": 18,
     "metadata": {},
     "output_type": "execute_result"
    }
   ],
   "source": [
    "'''\n",
    "Populate Property Address data\n",
    "'''"
   ]
  },
  {
   "cell_type": "code",
   "execution_count": 19,
   "metadata": {},
   "outputs": [
    {
     "name": "stdout",
     "output_type": "stream",
     "text": [
      "                           PropertyAddress\n",
      "4679        1114 A  BILTMORE DR, NASHVILLE\n",
      "21306  3508  CUMBERLAND COVE DR, NASHVILLE\n",
      "24192            1518  MOHAWK TRL, MADISON\n",
      "28243      1307 ASTAINBACK  AVE, NASHVILLE\n",
      "36411          1523  22ND AVE N, NASHVILLE\n",
      "44539           1212  LAUREL ST, NASHVILLE\n",
      "55202      2600  HILLSBORO PIKE, NASHVILLE\n",
      "25425       104  SADDLE TREE DR, HERMITAGE\n",
      "22040         1405  ROCKGLADE RUN, ANTIOCH\n",
      "55401       0  NEW NATCHEZ TRCE, NASHVILLE\n"
     ]
    }
   ],
   "source": [
    "# Conecta a la base de datos\n",
    "conexion = conexion_sql_server()\n",
    "\n",
    "pd.set_option('display.expand_frame_repr', False) #! Muestra los resultados de manera horizontal.\n",
    "\n",
    "# Realizamos la consulta y obtenemos los resultados en un DataFrame\n",
    "df = select_to_df('''SELECT PropertyAddress\n",
    "                        FROM NashvilleHousing''', conexion)\n",
    "\n",
    "# Muestra el DataFrame\n",
    "print(df.sample(10))\n",
    "\n",
    "#! Nos permite ejecutar nuestra tabla \"NashvilleHousing\"\n",
    "#! Solo visualizamos la columna \"PropertyAddress\"."
   ]
  },
  {
   "cell_type": "code",
   "execution_count": 38,
   "metadata": {},
   "outputs": [
    {
     "name": "stdout",
     "output_type": "stream",
     "text": [
      "    UniqueID           ParcelID                  LandUse PropertyAddress   SaleDate  SalePrice    LegalReference SoldAsVacant                             OwnerName                            OwnerAddress  Acreage                TaxDistrict  LandValue  BuildingValue  TotalValue  YearBuilt  Bedrooms  FullBath  HalfBath SaleDateConverted\n",
      "7     36531.0   034 03 0 059.00            SINGLE FAMILY            None 2015-08-13   245000.0  20150819-0083759           No        DILICK, JOHN MARK & ANNETTE A.             2117  PAULA DR, MADISON, TN     1.01  GENERAL SERVICES DISTRICT    32000.0       170000.0    228300.0     1964.0       4.0       3.0       0.0        2015-08-13\n",
      "15    50927.0   044 05 0 135.00            SINGLE FAMILY            None 2016-06-15   160000.0  20160617-0061987           No                SMITH, WARREN & MARTHA        202  KEETON AVE, OLD HICKORY, TN     0.12  GENERAL SERVICES DISTRICT    19000.0       102700.0    121700.0     2015.0       4.0       2.0       0.0        2016-06-15\n",
      "0     43076.0   025 07 0 031.00            SINGLE FAMILY            None 2016-01-15   179900.0  20160120-0005776           No               COSTNER, FRED & CAROLYN    410  ROSEHILL CT, GOODLETTSVILLE, TN     0.96     CITY OF GOODLETTSVILLE    30000.0        70000.0    100000.0     1964.0       3.0       1.0       0.0        2016-01-15\n",
      "13    22775.0   043 09 0 074.00  VACANT RESIDENTIAL LAND            None 2014-10-27   151000.0  20141028-0099094          Yes                  BREWER HOLDINGS, LLC            213 B LOVELL ST, MADISON, TN     0.15  GENERAL SERVICES DISTRICT    18000.0       115600.0    133600.0     2015.0       3.0       2.0       0.0        2014-10-27\n",
      "9     44264.0  034 16 0A 004.00  VACANT RESIDENTIAL LAND            None 2016-02-04   130000.0  20160205-0011327          Yes                                  None                                    None      NaN                       None        NaN            NaN         NaN        NaN       NaN       NaN       NaN        2016-02-04\n",
      "4     43080.0   033 06 0 041.00            SINGLE FAMILY            None 2016-01-04   170000.0  20160107-0001526           No                 FRANK, ZACHARY & NIKI   1129  CAMPBELL RD, GOODLETTSVILLE, TN     0.24  GENERAL SERVICES DISTRICT    35000.0       110500.0    145500.0     2000.0       3.0       2.0       0.0        2016-01-04\n",
      "27    51930.0  113 14 0A 002.00  VACANT RESIDENTIAL LAND            None 2016-07-05   133000.0  20160707-0069375          Yes                                  None                                    None      NaN                       None        NaN            NaN         NaN        NaN       NaN       NaN       NaN        2016-07-05\n",
      "23    45774.0   107 13 0 107.00            SINGLE FAMILY            None 2016-03-28   169900.0  20160330-0030078           No                 GROOMS, MICAH & CASEY        1205  THOMPSON PL, NASHVILLE, TN     0.39    URBAN SERVICES DISTRICT    17000.0        75600.0     96200.0     1949.0       3.0       1.0       0.0        2016-03-28\n",
      "24    14753.0  108 07 0A 026.00        RESIDENTIAL CONDO            None 2014-04-15    79900.0  20140416-0031777           No                                  None                                    None      NaN                       None        NaN            NaN         NaN        NaN       NaN       NaN       NaN        2014-04-15\n",
      "5     45295.0  033 06 0A 002.00            SINGLE FAMILY            None 2016-03-29   210000.0  20160331-0030709           No                                  None                                    None      NaN                       None        NaN            NaN         NaN        NaN       NaN       NaN       NaN        2016-03-29\n",
      "14    45349.0   043 13 0 308.00            SINGLE FAMILY            None 2016-03-31   155000.0  20160405-0032445           No     JACKSON, ADAM L. & MOORE, MARY A.            224  HICKORY ST, MADISON, TN     0.16  GENERAL SERVICES DISTRICT    16000.0        65900.0     81900.0     1940.0       2.0       1.0       0.0        2016-03-31\n",
      "6     48731.0   033 15 0 123.00            SINGLE FAMILY            None 2016-05-05   199900.0  20160506-0045368           No  COLEMAN, AARON A. & CECIL, CORRIE J.  438  W CAMPBELL RD, GOODLETTSVILLE, TN     1.39  GENERAL SERVICES DISTRICT    45000.0        90300.0    135300.0     1954.0       2.0       1.0       0.0        2016-05-05\n",
      "19    27140.0   092 06 0 282.00            SINGLE FAMILY            None 2015-02-20    41500.0  20150224-0015900           No              PROSPERITAS PARTNERS LLC          815  31ST AVE N, NASHVILLE, TN     0.17    URBAN SERVICES DISTRICT    13000.0        49400.0     62400.0     1960.0       2.0       1.0       0.0        2015-02-20\n",
      "26    24197.0  110 03 0A 061.00            SINGLE FAMILY            None 2014-11-19   269750.0  20141120-0106962           No                                  None                                    None      NaN                       None        NaN            NaN         NaN        NaN       NaN       NaN       NaN        2014-11-19\n",
      "17    43151.0  052 08 0A 320.00            SINGLE FAMILY            None 2016-01-15   150000.0  20160119-0004918           No                                  None                                    None      NaN                       None        NaN            NaN         NaN        NaN       NaN       NaN       NaN        2016-01-15\n",
      "18    49886.0   092 06 0 273.00            SINGLE FAMILY            None 2016-06-21   186000.0  20160705-0068281           No                   SOLAVA, RACHEL LYNN          2721  HERMAN ST, NASHVILLE, TN     0.17    URBAN SERVICES DISTRICT     9000.0        63200.0     72200.0     1987.0       2.0       1.0       1.0        2016-06-21\n",
      "8     46919.0  034 07 0B 015.00  VACANT RESIDENTIAL LAND            None 2016-04-27    40000.0  20160304-0020905          Yes                                  None                                    None      NaN                       None        NaN            NaN         NaN        NaN       NaN       NaN       NaN        2016-04-27\n",
      "25    15886.0  109 04 0A 080.00          VACANT RES LAND            None 2014-05-13   255590.0  20140514-0041276           No                                  None                                    None      NaN                       None        NaN            NaN         NaN        NaN       NaN       NaN       NaN        2014-05-13\n",
      "16     3299.0   052 01 0 296.00            SINGLE FAMILY            None 2013-05-31    79370.0  20130620-0063114           No                  KIRBY, WILLIAM E. JR           726  IDLEWILD DR, MADISON, TN     0.22  GENERAL SERVICES DISTRICT    16000.0        60800.0     76800.0     1957.0       2.0       1.0       0.0        2013-05-31\n",
      "12    47293.0   043 04 0 014.00            SINGLE FAMILY            None 2016-04-29   190000.0  20160503-0043576           No      CRIPPS, WILLIE S. JR. & GINEA M.         112  HILLER DR, OLD HICKORY, TN     0.29  GENERAL SERVICES DISTRICT    17000.0       143700.0    173600.0     1956.0       4.0       2.0       1.0        2016-04-29\n",
      "Tenemos (29, 20) filas y columnas\n"
     ]
    }
   ],
   "source": [
    "# Conecta a la base de datos\n",
    "conexion = conexion_sql_server()\n",
    "\n",
    "pd.set_option('display.expand_frame_repr', False) #! Muestra los resultados de manera horizontal.\n",
    "\n",
    "# Realizamos la consulta y obtenemos los resultados en un DataFrame\n",
    "df = select_to_df('''SELECT *\n",
    "                        FROM NashvilleHousing\n",
    "                        WHERE PropertyAddress is null;''', conexion)\n",
    "\n",
    "# Muestra el DataFrame\n",
    "print(df.sample(20))\n",
    "print(f\"Tenemos {df.shape} filas y columnas\")\n",
    "#! Nos permite ejecutar nuestra tabla \"NashvilleHousing\"\n",
    "#! Solo visualizamos las filas vacias, referente a la columna \"PropertyAddress\".\n",
    "#! Agregamos el codigo print(f\"Tenemos {df.shape} filas y columnas\"), para saber el # de filas y columnas."
   ]
  },
  {
   "cell_type": "code",
   "execution_count": 39,
   "metadata": {},
   "outputs": [
    {
     "name": "stdout",
     "output_type": "stream",
     "text": [
      "            ParcelID PropertyAddress          ParcelID                 PropertyAddress                         New_Col\n",
      "24   092 13 0 322.00            None   092 13 0 322.00      237  37TH AVE N, NASHVILLE      237  37TH AVE N, NASHVILLE\n",
      "18   044 05 0 135.00            None   044 05 0 135.00    202  KEETON AVE, OLD HICKORY    202  KEETON AVE, OLD HICKORY\n",
      "19   052 01 0 296.00            None   052 01 0 296.00       726  IDLEWILD DR, MADISON       726  IDLEWILD DR, MADISON\n",
      "11  034 07 0B 015.00            None  034 07 0B 015.00     2524  VAL MARIE DR, MADISON     2524  VAL MARIE DR, MADISON\n",
      "33  113 14 0A 002.00            None  113 14 0A 002.00    7601  CHIPMUNK LN, NASHVILLE    7601  CHIPMUNK LN, NASHVILLE\n",
      "15   043 04 0 014.00            None   043 04 0 014.00     112  HILLER DR, OLD HICKORY     112  HILLER DR, OLD HICKORY\n",
      "7    034 03 0 059.00            None   034 03 0 059.00         2117  PAULA DR, MADISON         2117  PAULA DR, MADISON\n",
      "25   092 13 0 339.00            None   092 13 0 339.00      311  35TH AVE N, NASHVILLE      311  35TH AVE N, NASHVILLE\n",
      "3   026 06 0A 038.00            None  026 06 0A 038.00  109  CANTON CT, GOODLETTSVILLE  109  CANTON CT, GOODLETTSVILLE\n",
      "27   093 08 0 054.00            None   093 08 0 054.00     700  GLENVIEW DR, NASHVILLE     700  GLENVIEW DR, NASHVILLE\n"
     ]
    }
   ],
   "source": [
    "# Conecta a la base de datos\n",
    "conexion = conexion_sql_server()\n",
    "\n",
    "pd.set_option('display.expand_frame_repr', False) #! Muestra los resultados de manera horizontal.\n",
    "\n",
    "# Realizamos la consulta y obtenemos los resultados en un DataFrame\n",
    "df = select_to_df('''SELECT A.ParcelID, A.PropertyAddress, B.ParcelID, B.PropertyAddress,\n",
    "                  ISNULL(A.PropertyAddress, B.PropertyAddress) AS New_Col\n",
    "                    FROM NashvilleHousing AS A\n",
    "                    JOIN NashvilleHousing AS B\n",
    "                        ON A.ParcelID = B.ParcelID\n",
    "                        AND A.UniqueID <> B.UniqueID\n",
    "                    WHERE A.PropertyAddress IS NULL;''', conexion)\n",
    "\n",
    "# Muestra el DataFrame\n",
    "print(df.sample(10))\n",
    "\n",
    "#! Nos permite ejecutar nuestra tabla \"NashvilleHousing\"\n",
    "#! Hacemos un Join a la misma tabla en base a las columnas \"ParcelID\", \"UniqueID\".\n",
    "#! Filtramos los valores nulos de la primera tabla \"PropertyAddress\".\n",
    "#! El codigo nos dice que si la columna \"PropertyAddress\" de la tabla A, tiene valores vacios, esto deben llenarse con la columna \"PropertyAddress\" de la tabla B."
   ]
  },
  {
   "cell_type": "code",
   "execution_count": 40,
   "metadata": {},
   "outputs": [
    {
     "name": "stdout",
     "output_type": "stream",
     "text": [
      "Actualización de tabla Exitosa\n"
     ]
    }
   ],
   "source": [
    "# Parámetros de conexión\n",
    "server = 'DESKTOP-CK3D4E3\\\\SQLEXPRESS02'\n",
    "database = 'PORTFOLIO_PROYECT'\n",
    "#username = 'tu_usuario'\n",
    "#password = 'tu_contraseña'\n",
    "\n",
    "# Llevamos a cabo la conexión con el servidor\n",
    "\n",
    "conexion = podbc.connect(driver= '{SQL server}', Database= '{PORTFOLIO_PROYECT}', host = server)\n",
    "\n",
    "print(\"Actualización de tabla Exitosa\")\n",
    "\n",
    "# Crear un cursor\n",
    "cursor = conexion.cursor()\n",
    "\n",
    "# Crear la tabla\n",
    "create_table_query = '''UPDATE A\n",
    "                            SET PropertyAddress = ISNULL(A.PropertyAddress, B.PropertyAddress)\n",
    "                            FROM NashvilleHousing AS A\n",
    "                            JOIN NashvilleHousing AS B\n",
    "                                ON A.ParcelID = B.ParcelID\n",
    "                                AND A.UniqueID <> B.UniqueID\n",
    "                            WHERE A.PropertyAddress IS NULL;\n",
    "'''\n",
    "\n",
    "# EmployeeID INT PRIMARY KEY, \"Nos permite considerar la columna como la llave primaria\"\n",
    "\n",
    "cursor.execute(create_table_query)\n",
    "\n",
    "# Nos aseguramos de cerrar la conexión\n",
    "\n",
    "conexion.commit()\n",
    "conexion.close()\n",
    "\n",
    "#! Nos permite actualizar nuestra tabla, en nuestro ejemplo es \"NashvilleHousing\"."
   ]
  },
  {
   "cell_type": "code",
   "execution_count": 41,
   "metadata": {},
   "outputs": [
    {
     "name": "stdout",
     "output_type": "stream",
     "text": [
      "Empty DataFrame\n",
      "Columns: [ParcelID, PropertyAddress, ParcelID, PropertyAddress, New_Col]\n",
      "Index: []\n"
     ]
    }
   ],
   "source": [
    "# Conecta a la base de datos\n",
    "conexion = conexion_sql_server()\n",
    "\n",
    "pd.set_option('display.expand_frame_repr', False) #! Muestra los resultados de manera horizontal.\n",
    "\n",
    "# Realizamos la consulta y obtenemos los resultados en un DataFrame\n",
    "df = select_to_df('''SELECT A.ParcelID, A.PropertyAddress, B.ParcelID, B.PropertyAddress,\n",
    "                  ISNULL(A.PropertyAddress, B.PropertyAddress) AS New_Col\n",
    "                    FROM NashvilleHousing AS A\n",
    "                    JOIN NashvilleHousing AS B\n",
    "                        ON A.ParcelID = B.ParcelID\n",
    "                        AND A.UniqueID <> B.UniqueID\n",
    "                    WHERE A.PropertyAddress IS NULL;''', conexion)\n",
    "\n",
    "# Muestra el DataFrame\n",
    "print(df)\n",
    "\n",
    "#! Volvemos a ejecutar el codigo y al haber sido actualizado, no nos deberia aparecer valores vacios en la columna \"PropertyAddress\"."
   ]
  },
  {
   "cell_type": "code",
   "execution_count": 20,
   "metadata": {},
   "outputs": [
    {
     "data": {
      "text/plain": [
       "'\\nBreaking out Address into individual columns (Address, City, State)\\n'"
      ]
     },
     "execution_count": 20,
     "metadata": {},
     "output_type": "execute_result"
    }
   ],
   "source": [
    "'''\n",
    "Breaking out Address into individual columns (Address, City, State)\n",
    "'''"
   ]
  },
  {
   "cell_type": "code",
   "execution_count": 21,
   "metadata": {},
   "outputs": [
    {
     "name": "stdout",
     "output_type": "stream",
     "text": [
      "                    Address     Address\n",
      "38842    1909 B  TRUETT AVE   NASHVILLE\n",
      "17735    3303  LEONDALE TER   NASHVILLE\n",
      "36860    1202 MCFERRIN  AVE   NASHVILLE\n",
      "13099     4561  HAMILTON LN     ANTIOCH\n",
      "21067    4060  FAIRMEADE DR   NASHVILLE\n",
      "8787   630 HARPETH BEND  DR   NASHVILLE\n",
      "20348         4021  MOSS RD     ANTIOCH\n",
      "2678    561  SUMMIT OAKS CT   NASHVILLE\n",
      "15373          0  CHERRY ST     MADISON\n",
      "29221      1841  ANNALEE DR     ANTIOCH\n"
     ]
    }
   ],
   "source": [
    "# Conecta a la base de datos\n",
    "conexion = conexion_sql_server()\n",
    "\n",
    "pd.set_option('display.expand_frame_repr', False) #! Muestra los resultados de manera horizontal.\n",
    "\n",
    "# Realizamos la consulta y obtenemos los resultados en un DataFrame\n",
    "df = select_to_df('''SELECT \n",
    "                    SUBSTRING (PropertyAddress, 1, CHARINDEX (',', PropertyAddress) - 1) AS Address\n",
    "                    , SUBSTRING (PropertyAddress, CHARINDEX (',', PropertyAddress) + 1, LEN ( PropertyAddress)) AS Address\n",
    "                    FROM NashvilleHousing;''', conexion)\n",
    "\n",
    "# Muestra el DataFrame\n",
    "print(df.sample(10))\n",
    "\n",
    "#! Nos permite separar los valores por el delimitador \",\".\n",
    "#! Generamos 2 columnas con los valores separados."
   ]
  },
  {
   "cell_type": "code",
   "execution_count": 22,
   "metadata": {},
   "outputs": [
    {
     "name": "stdout",
     "output_type": "stream",
     "text": [
      "Alteración de tabla Exitosa\n"
     ]
    }
   ],
   "source": [
    "# Parámetros de conexión\n",
    "server = 'DESKTOP-CK3D4E3\\\\SQLEXPRESS02'\n",
    "database = 'PORTFOLIO_PROYECT'\n",
    "#username = 'tu_usuario'\n",
    "#password = 'tu_contraseña'\n",
    "\n",
    "# Llevamos a cabo la conexión con el servidor\n",
    "\n",
    "conexion = podbc.connect(driver= '{SQL server}', Database= '{PORTFOLIO_PROYECT}', host = server)\n",
    "\n",
    "print(\"Alteración de tabla Exitosa\")\n",
    "\n",
    "# Crear un cursor\n",
    "cursor = conexion.cursor()\n",
    "\n",
    "# Crear la tabla\n",
    "create_table_query = '''\n",
    "                        ALTER TABLE NashvilleHousing\n",
    "                            ADD PropertySplitAddress nvarchar(255);\n",
    "                    '''\n",
    "\n",
    "# EmployeeID INT PRIMARY KEY, \"Nos permite considerar la columna como la llave primaria\"\n",
    "\n",
    "cursor.execute(create_table_query)\n",
    "\n",
    "# Nos aseguramos de cerrar la conexión\n",
    "\n",
    "conexion.commit()\n",
    "conexion.close()\n",
    "\n",
    "#! Nos permite alterar nuestra tabla, en nuestro ejemplo es \"NashvilleHousing\".\n",
    "#! Paso:1\n",
    "#! Alteramos la tabla original, creando una columna titutalada \"PropertySplitAddress\""
   ]
  },
  {
   "cell_type": "code",
   "execution_count": 23,
   "metadata": {},
   "outputs": [
    {
     "name": "stdout",
     "output_type": "stream",
     "text": [
      "Actualización de tabla Exitosa\n"
     ]
    }
   ],
   "source": [
    "# Parámetros de conexión\n",
    "server = 'DESKTOP-CK3D4E3\\\\SQLEXPRESS02'\n",
    "database = 'PORTFOLIO_PROYECT'\n",
    "#username = 'tu_usuario'\n",
    "#password = 'tu_contraseña'\n",
    "\n",
    "# Llevamos a cabo la conexión con el servidor\n",
    "\n",
    "conexion = podbc.connect(driver= '{SQL server}', Database= '{PORTFOLIO_PROYECT}', host = server)\n",
    "\n",
    "print(\"Actualización de tabla Exitosa\")\n",
    "\n",
    "# Crear un cursor\n",
    "cursor = conexion.cursor()\n",
    "\n",
    "# Crear la tabla\n",
    "create_table_query = '''\n",
    "                    UPDATE NashvilleHousing\n",
    "                    SET PropertySplitAddress = SUBSTRING (PropertyAddress, 1, CHARINDEX (',', PropertyAddress) - 1)\n",
    "                        ;\n",
    "                        '''\n",
    "\n",
    "# EmployeeID INT PRIMARY KEY, \"Nos permite considerar la columna como la llave primaria\"\n",
    "\n",
    "cursor.execute(create_table_query)\n",
    "\n",
    "# Nos aseguramos de cerrar la conexión\n",
    "\n",
    "conexion.commit()\n",
    "conexion.close()\n",
    "\n",
    "#! Nos permite actualizar nuestra tabla, en nuestro ejemplo es \"NashvilleHousing\".\n",
    "#! Paso:2\n",
    "#! Actualizamos los valores de la columna \"PropertySplitAddress\" con los datos que se encuentran antes de la coma ',', referente a la columna original \"PropertyAddress\" "
   ]
  },
  {
   "cell_type": "code",
   "execution_count": 24,
   "metadata": {},
   "outputs": [
    {
     "name": "stdout",
     "output_type": "stream",
     "text": [
      "Actualización de tabla Exitosa\n"
     ]
    }
   ],
   "source": [
    "# Parámetros de conexión\n",
    "server = 'DESKTOP-CK3D4E3\\\\SQLEXPRESS02'\n",
    "database = 'PORTFOLIO_PROYECT'\n",
    "#username = 'tu_usuario'\n",
    "#password = 'tu_contraseña'\n",
    "\n",
    "# Llevamos a cabo la conexión con el servidor\n",
    "\n",
    "conexion = podbc.connect(driver= '{SQL server}', Database= '{PORTFOLIO_PROYECT}', host = server)\n",
    "\n",
    "print(\"Actualización de tabla Exitosa\")\n",
    "\n",
    "# Crear un cursor\n",
    "cursor = conexion.cursor()\n",
    "\n",
    "# Crear la tabla\n",
    "create_table_query = '''ALTER TABLE NashvilleHousing\n",
    "                        ADD PropertySplitCity nvarchar (255);\n",
    "'''\n",
    "\n",
    "# EmployeeID INT PRIMARY KEY, \"Nos permite considerar la columna como la llave primaria\"\n",
    "\n",
    "cursor.execute(create_table_query)\n",
    "\n",
    "# Nos aseguramos de cerrar la conexión\n",
    "\n",
    "conexion.commit()\n",
    "conexion.close()\n",
    "\n",
    "#! Nos permite transformar nuestra tabla, en nuestro ejemplo es \"NashvilleHousing\".\n",
    "#! Paso:3\n",
    "#! Alteramos la tabla original, creando una columna titutalada \"PropertySplitCity\""
   ]
  },
  {
   "cell_type": "code",
   "execution_count": 25,
   "metadata": {},
   "outputs": [
    {
     "name": "stdout",
     "output_type": "stream",
     "text": [
      "Actualización de tabla Exitosa\n"
     ]
    }
   ],
   "source": [
    "# Parámetros de conexión\n",
    "server = 'DESKTOP-CK3D4E3\\\\SQLEXPRESS02'\n",
    "database = 'PORTFOLIO_PROYECT'\n",
    "#username = 'tu_usuario'\n",
    "#password = 'tu_contraseña'\n",
    "\n",
    "# Llevamos a cabo la conexión con el servidor\n",
    "\n",
    "conexion = podbc.connect(driver= '{SQL server}', Database= '{PORTFOLIO_PROYECT}', host = server)\n",
    "\n",
    "print(\"Actualización de tabla Exitosa\")\n",
    "\n",
    "# Crear un cursor\n",
    "cursor = conexion.cursor()\n",
    "\n",
    "# Crear la tabla\n",
    "create_table_query = '''\n",
    "            UPDATE NashvilleHousing\n",
    "                SET PropertySplitCity = SUBSTRING (PropertyAddress, CHARINDEX (',', PropertyAddress) + 1, LEN ( PropertyAddress))\n",
    "        ;\n",
    "                        '''\n",
    "\n",
    "# EmployeeID INT PRIMARY KEY, \"Nos permite considerar la columna como la llave primaria\"\n",
    "\n",
    "cursor.execute(create_table_query)\n",
    "\n",
    "# Nos aseguramos de cerrar la conexión\n",
    "\n",
    "conexion.commit()\n",
    "conexion.close()\n",
    "\n",
    "#! Nos permite actualizar nuestra tabla, en nuestro ejemplo es \"NashvilleHousing\".\n",
    "#! Paso:4\n",
    "#! Actualizamos los valores de la columna \"PropertySplitAddress\" con los datos que se encuentran despues de la coma ',', referente a la columna original \"PropertyAddress\""
   ]
  },
  {
   "cell_type": "code",
   "execution_count": 26,
   "metadata": {},
   "outputs": [
    {
     "name": "stdout",
     "output_type": "stream",
     "text": [
      "       UniqueID           ParcelID            LandUse                    PropertyAddress   SaleDate  SalePrice    LegalReference SoldAsVacant                          OwnerName                       OwnerAddress  ...  LandValue BuildingValue  TotalValue  YearBuilt  Bedrooms  FullBath  HalfBath  SaleDateConverted    PropertySplitAddress PropertySplitCity\n",
      "33374     4820.0   075 09 0 004.00      SINGLE FAMILY      302  BONNAHURST DR, HERMITAGE 2013-06-26   105000.0  20130628-0066645           No          JENKINS, WAYNE & ELISA J.  302  BONNAHURST DR, HERMITAGE, TN  ...    21000.0       85700.0    106700.0     1962.0       3.0       1.0       1.0         2013-06-26      302  BONNAHURST DR         HERMITAGE\n",
      "37311    38768.0  082 09 0I 001.00  RESIDENTIAL CONDO          312  TAYLOR ST, NASHVILLE 2015-09-29   400000.0  20151006-0101619           No                               None                               None  ...        NaN           NaN         NaN        NaN       NaN       NaN       NaN         2015-09-29          312  TAYLOR ST         NASHVILLE\n",
      "45591    49037.0  094 02 0B 008.00  RESIDENTIAL CONDO        1805 BSEVIER  ST, NASHVILLE 2016-05-23   379000.0  20160526-0053075           No                               None                               None  ...        NaN           NaN         NaN        NaN       NaN       NaN       NaN         2016-05-23        1805 BSEVIER  ST         NASHVILLE\n",
      "8993      8782.0  143 03 0B 046.00  RESIDENTIAL CONDO  6931  HIGHLAND PARK DR, NASHVILLE 2013-10-18   145000.0  20131021-0109854           No                               None                               None  ...        NaN           NaN         NaN        NaN       NaN       NaN       NaN         2013-10-18  6931  HIGHLAND PARK DR         NASHVILLE\n",
      "16399    38343.0   044 11 0 083.00      SINGLE FAMILY       402  HADLEY AVE, OLD HICKORY 2015-09-16   105000.0  20150929-0098695           No                 ROMERO, LILLIAN A.   402  HADLEY AVE, OLD HICKORY, TN  ...    17000.0       60300.0     77300.0     1931.0       3.0       1.0       0.0         2015-09-16         402  HADLEY AVE       OLD HICKORY\n",
      "7726     36253.0  141 15 0D 131.00      SINGLE FAMILY    313  STONEHINDGE WAY, NASHVILLE 2015-08-14   345000.0  20150818-0083006           No                               None                               None  ...        NaN           NaN         NaN        NaN       NaN       NaN       NaN         2015-08-14    313  STONEHINDGE WAY         NASHVILLE\n",
      "29170    30376.0  174 01 0B 016.00  RESIDENTIAL CONDO      2106  RIVENDELL TRCE, ANTIOCH 2015-05-11  1861976.0  20150512-0043294           No                               None                               None  ...        NaN           NaN         NaN        NaN       NaN       NaN       NaN         2015-05-11    2106  RIVENDELL TRCE           ANTIOCH\n",
      "24675    27597.0   172 02 0 111.00      SINGLE FAMILY         6028  DEER TRCE, NASHVILLE 2015-03-23   379500.0  20150406-0029536           No  MCKNIGHT, QUINTON G. & NIKISHA T.     6028  DEER TRCE, NASHVILLE, TN  ...    67000.0      300400.0    367400.0     1994.0       3.0       2.0       1.0         2015-03-23         6028  DEER TRCE         NASHVILLE\n",
      "35877     8818.0   081 10 0 177.00      SINGLE FAMILY        1728  25TH AVE N, NASHVILLE 2013-10-30    85500.0  20131031-0113261           No                HORTON, ZAINEB JEAN    1728  25TH AVE N, NASHVILLE, TN  ...    13000.0       50900.0     63900.0     1963.0       3.0       1.0       0.0         2013-10-30        1728  25TH AVE N         NASHVILLE\n",
      "36657    53323.0   082 03 0 111.00      SINGLE FAMILY          1121 N 2ND  ST, NASHVILLE 2016-08-18   560000.0  20160819-0087092           No                    SIMMONS, PAMELA      1121  N 2ND ST, NASHVILLE, TN  ...    27000.0       37700.0     64700.0     1930.0       3.0       1.0       1.0         2016-08-18          1121 N 2ND  ST         NASHVILLE\n",
      "\n",
      "[10 rows x 22 columns]\n"
     ]
    }
   ],
   "source": [
    "# Conecta a la base de datos\n",
    "conexion = conexion_sql_server()\n",
    "\n",
    "pd.set_option('display.expand_frame_repr', False) #! Muestra los resultados de manera horizontal.\n",
    "\n",
    "# Realizamos la consulta y obtenemos los resultados en un DataFrame\n",
    "df = select_to_df('''SELECT *\n",
    "                  FROM NashvilleHousing;''', conexion)\n",
    "\n",
    "# Muestra el DataFrame\n",
    "print(df.sample(10))\n",
    "\n",
    "#! Volvemos a ejecutar el codigo y al haber sido actualizado, nos deberia aparecer las 2 nuevas columnas creadas \"PropertySplitAddress\" \"PropertySplitCity\"."
   ]
  },
  {
   "cell_type": "code",
   "execution_count": 27,
   "metadata": {},
   "outputs": [
    {
     "name": "stdout",
     "output_type": "stream",
     "text": [
      "               Dirección      Ciudad Estado                      OwnerAddress\n",
      "49933               None        None   None                              None\n",
      "30667               None        None   None                              None\n",
      "14379               None        None   None                              None\n",
      "45590               None        None   None                              None\n",
      "21992               None        None   None                              None\n",
      "45324       1013  DEW ST   NASHVILLE     TN       1013  DEW ST, NASHVILLE, TN\n",
      "46053  2617  LAKELAND DR   NASHVILLE     TN  2617  LAKELAND DR, NASHVILLE, TN\n",
      "46372               None        None   None                              None\n",
      "19697               None        None   None                              None\n",
      "45023               None        None   None                              None\n"
     ]
    }
   ],
   "source": [
    "# Conecta a la base de datos\n",
    "conexion = conexion_sql_server()\n",
    "\n",
    "pd.set_option('display.expand_frame_repr', False) #! Muestra los resultados de manera horizontal.\n",
    "\n",
    "# Realizamos la consulta y obtenemos los resultados en un DataFrame\n",
    "df = select_to_df('''SELECT\n",
    "                        PARSENAME(REPLACE(OwnerAddress, ',', '.'), 3) AS Dirección\n",
    "                        , PARSENAME(REPLACE(OwnerAddress, ',', '.'), 2) AS Ciudad\n",
    "                        , PARSENAME(REPLACE(OwnerAddress, ',', '.'), 1) AS Estado\n",
    "                        , OwnerAddress\n",
    "                        FROM NashvilleHousing;''', conexion)\n",
    "\n",
    "# Muestra el DataFrame\n",
    "print(df.sample(10))\n",
    "\n",
    "#! Volvemos a ejecutar el codigo y al haber sido actualizado, nos deberia aparecer las 2 nuevas columnas creadas \"PropertySplitAddress\" \"PropertySplitCity\"."
   ]
  },
  {
   "cell_type": "code",
   "execution_count": 28,
   "metadata": {},
   "outputs": [
    {
     "name": "stdout",
     "output_type": "stream",
     "text": [
      "Alteración de tabla Exitosa\n"
     ]
    }
   ],
   "source": [
    "# Parámetros de conexión\n",
    "server = 'DESKTOP-CK3D4E3\\\\SQLEXPRESS02'\n",
    "database = 'PORTFOLIO_PROYECT'\n",
    "#username = 'tu_usuario'\n",
    "#password = 'tu_contraseña'\n",
    "\n",
    "# Llevamos a cabo la conexión con el servidor\n",
    "\n",
    "conexion = podbc.connect(driver= '{SQL server}', Database= '{PORTFOLIO_PROYECT}', host = server)\n",
    "\n",
    "print(\"Alteración de tabla Exitosa\")\n",
    "\n",
    "# Crear un cursor\n",
    "cursor = conexion.cursor()\n",
    "\n",
    "# Crear la tabla\n",
    "create_table_query = '''\n",
    "                        ALTER TABLE NashvilleHousing\n",
    "                            ADD OwnerSplitAddress nvarchar(255);\n",
    "                    '''\n",
    "\n",
    "# EmployeeID INT PRIMARY KEY, \"Nos permite considerar la columna como la llave primaria\"\n",
    "\n",
    "cursor.execute(create_table_query)\n",
    "\n",
    "# Nos aseguramos de cerrar la conexión\n",
    "\n",
    "conexion.commit()\n",
    "conexion.close()\n",
    "\n",
    "#! Nos permite alterar nuestra tabla, en nuestro ejemplo es \"NashvilleHousing\".\n",
    "#! Paso:1\n",
    "#! Alteramos la tabla original, creando una columna titutalada \"OwnerSplitAddress\""
   ]
  },
  {
   "cell_type": "code",
   "execution_count": 29,
   "metadata": {},
   "outputs": [
    {
     "name": "stdout",
     "output_type": "stream",
     "text": [
      "Actualización de tabla Exitosa\n"
     ]
    }
   ],
   "source": [
    "# Parámetros de conexión\n",
    "server = 'DESKTOP-CK3D4E3\\\\SQLEXPRESS02'\n",
    "database = 'PORTFOLIO_PROYECT'\n",
    "#username = 'tu_usuario'\n",
    "#password = 'tu_contraseña'\n",
    "\n",
    "# Llevamos a cabo la conexión con el servidor\n",
    "\n",
    "conexion = podbc.connect(driver= '{SQL server}', Database= '{PORTFOLIO_PROYECT}', host = server)\n",
    "\n",
    "print(\"Actualización de tabla Exitosa\")\n",
    "\n",
    "# Crear un cursor\n",
    "cursor = conexion.cursor()\n",
    "\n",
    "# Crear la tabla\n",
    "create_table_query = '''\n",
    "                    UPDATE NashvilleHousing\n",
    "                    SET OwnerSplitAddress = PARSENAME(REPLACE(OwnerAddress, ',', '.'), 3)\n",
    "                        ;\n",
    "                        '''\n",
    "\n",
    "# EmployeeID INT PRIMARY KEY, \"Nos permite considerar la columna como la llave primaria\"\n",
    "\n",
    "cursor.execute(create_table_query)\n",
    "\n",
    "# Nos aseguramos de cerrar la conexión\n",
    "\n",
    "conexion.commit()\n",
    "conexion.close()\n",
    "\n",
    "#! Nos permite actualizar nuestra tabla, en nuestro ejemplo es \"NashvilleHousing\".\n",
    "#! Paso:2\n",
    "#! Actualizamos los valores de la columna \"OwnerSplitAddress\" con los datos que se encuentran antes de la coma ',', referente a la columna original \"OwnerSplitAddress\" "
   ]
  },
  {
   "cell_type": "code",
   "execution_count": 30,
   "metadata": {},
   "outputs": [
    {
     "name": "stdout",
     "output_type": "stream",
     "text": [
      "Actualización de tabla Exitosa\n"
     ]
    }
   ],
   "source": [
    "# Parámetros de conexión\n",
    "server = 'DESKTOP-CK3D4E3\\\\SQLEXPRESS02'\n",
    "database = 'PORTFOLIO_PROYECT'\n",
    "#username = 'tu_usuario'\n",
    "#password = 'tu_contraseña'\n",
    "\n",
    "# Llevamos a cabo la conexión con el servidor\n",
    "\n",
    "conexion = podbc.connect(driver= '{SQL server}', Database= '{PORTFOLIO_PROYECT}', host = server)\n",
    "\n",
    "print(\"Actualización de tabla Exitosa\")\n",
    "\n",
    "# Crear un cursor\n",
    "cursor = conexion.cursor()\n",
    "\n",
    "# Crear la tabla\n",
    "create_table_query = '''ALTER TABLE NashvilleHousing\n",
    "                        ADD OwnerSplitCity nvarchar (255);\n",
    "'''\n",
    "\n",
    "# EmployeeID INT PRIMARY KEY, \"Nos permite considerar la columna como la llave primaria\"\n",
    "\n",
    "cursor.execute(create_table_query)\n",
    "\n",
    "# Nos aseguramos de cerrar la conexión\n",
    "\n",
    "conexion.commit()\n",
    "conexion.close()\n",
    "\n",
    "#! Nos permite transformar nuestra tabla, en nuestro ejemplo es \"NashvilleHousing\".\n",
    "#! Paso:3\n",
    "#! Alteramos la tabla original, creando una columna titutalada \"OwnerSplitCity\""
   ]
  },
  {
   "cell_type": "code",
   "execution_count": 31,
   "metadata": {},
   "outputs": [
    {
     "name": "stdout",
     "output_type": "stream",
     "text": [
      "Actualización de tabla Exitosa"
     ]
    },
    {
     "name": "stdout",
     "output_type": "stream",
     "text": [
      "\n"
     ]
    }
   ],
   "source": [
    "# Parámetros de conexión\n",
    "server = 'DESKTOP-CK3D4E3\\\\SQLEXPRESS02'\n",
    "database = 'PORTFOLIO_PROYECT'\n",
    "#username = 'tu_usuario'\n",
    "#password = 'tu_contraseña'\n",
    "\n",
    "# Llevamos a cabo la conexión con el servidor\n",
    "\n",
    "conexion = podbc.connect(driver= '{SQL server}', Database= '{PORTFOLIO_PROYECT}', host = server)\n",
    "\n",
    "print(\"Actualización de tabla Exitosa\")\n",
    "\n",
    "# Crear un cursor\n",
    "cursor = conexion.cursor()\n",
    "\n",
    "# Crear la tabla\n",
    "create_table_query = '''\n",
    "            UPDATE NashvilleHousing\n",
    "                SET OwnerSplitCity = PARSENAME(REPLACE(OwnerAddress, ',', '.'), 2)\n",
    "        ;\n",
    "                        '''\n",
    "\n",
    "# EmployeeID INT PRIMARY KEY, \"Nos permite considerar la columna como la llave primaria\"\n",
    "\n",
    "cursor.execute(create_table_query)\n",
    "\n",
    "# Nos aseguramos de cerrar la conexión\n",
    "\n",
    "conexion.commit()\n",
    "conexion.close()\n",
    "\n",
    "#! Nos permite actualizar nuestra tabla, en nuestro ejemplo es \"NashvilleHousing\".\n",
    "#! Paso:4\n",
    "#! Actualizamos los valores de la columna \"OwnerSplitCity\" con los datos que se encuentran despues de la coma ',', referente a la columna original \"OwnerSplitCity\""
   ]
  },
  {
   "cell_type": "code",
   "execution_count": 32,
   "metadata": {},
   "outputs": [
    {
     "name": "stdout",
     "output_type": "stream",
     "text": [
      "Alteración de tabla Exitosa\n"
     ]
    }
   ],
   "source": [
    "# Parámetros de conexión\n",
    "server = 'DESKTOP-CK3D4E3\\\\SQLEXPRESS02'\n",
    "database = 'PORTFOLIO_PROYECT'\n",
    "#username = 'tu_usuario'\n",
    "#password = 'tu_contraseña'\n",
    "\n",
    "# Llevamos a cabo la conexión con el servidor\n",
    "\n",
    "conexion = podbc.connect(driver= '{SQL server}', Database= '{PORTFOLIO_PROYECT}', host = server)\n",
    "\n",
    "print(\"Alteración de tabla Exitosa\")\n",
    "\n",
    "# Crear un cursor\n",
    "cursor = conexion.cursor()\n",
    "\n",
    "# Crear la tabla\n",
    "create_table_query = '''\n",
    "                        ALTER TABLE NashvilleHousing\n",
    "                            ADD OwnerSplitState nvarchar(255);\n",
    "                    '''\n",
    "\n",
    "# EmployeeID INT PRIMARY KEY, \"Nos permite considerar la columna como la llave primaria\"\n",
    "\n",
    "cursor.execute(create_table_query)\n",
    "\n",
    "# Nos aseguramos de cerrar la conexión\n",
    "\n",
    "conexion.commit()\n",
    "conexion.close()\n",
    "\n",
    "#! Nos permite alterar nuestra tabla, en nuestro ejemplo es \"NashvilleHousing\".\n",
    "#! Paso:5\n",
    "#! Alteramos la tabla original, creando una columna titutalada \"OwnerSplitState\""
   ]
  },
  {
   "cell_type": "code",
   "execution_count": 33,
   "metadata": {},
   "outputs": [
    {
     "name": "stdout",
     "output_type": "stream",
     "text": [
      "Actualización de tabla Exitosa\n"
     ]
    }
   ],
   "source": [
    "# Parámetros de conexión\n",
    "server = 'DESKTOP-CK3D4E3\\\\SQLEXPRESS02'\n",
    "database = 'PORTFOLIO_PROYECT'\n",
    "#username = 'tu_usuario'\n",
    "#password = 'tu_contraseña'\n",
    "\n",
    "# Llevamos a cabo la conexión con el servidor\n",
    "\n",
    "conexion = podbc.connect(driver= '{SQL server}', Database= '{PORTFOLIO_PROYECT}', host = server)\n",
    "\n",
    "print(\"Actualización de tabla Exitosa\")\n",
    "\n",
    "# Crear un cursor\n",
    "cursor = conexion.cursor()\n",
    "\n",
    "# Crear la tabla\n",
    "create_table_query = '''\n",
    "                    UPDATE NashvilleHousing\n",
    "                    SET OwnerSplitState = PARSENAME(REPLACE(OwnerAddress, ',', '.'), 1)\n",
    "                        ;\n",
    "                        '''\n",
    "\n",
    "# EmployeeID INT PRIMARY KEY, \"Nos permite considerar la columna como la llave primaria\"\n",
    "\n",
    "cursor.execute(create_table_query)\n",
    "\n",
    "# Nos aseguramos de cerrar la conexión\n",
    "\n",
    "conexion.commit()\n",
    "conexion.close()\n",
    "\n",
    "#! Nos permite actualizar nuestra tabla, en nuestro ejemplo es \"NashvilleHousing\".\n",
    "#! Paso:6\n",
    "#! Actualizamos los valores de la columna \"OwnerSplitState\" con los datos que se encuentran antes de la coma ',', referente a la columna original \"OwnerSplitState\" "
   ]
  },
  {
   "cell_type": "code",
   "execution_count": 34,
   "metadata": {},
   "outputs": [
    {
     "name": "stdout",
     "output_type": "stream",
     "text": [
      "       UniqueID           ParcelID            LandUse                   PropertyAddress   SaleDate  SalePrice    LegalReference SoldAsVacant                       OwnerName                         OwnerAddress  ...  YearBuilt Bedrooms  FullBath  HalfBath  SaleDateConverted   PropertySplitAddress  PropertySplitCity   OwnerSplitAddress  OwnerSplitCity OwnerSplitState\n",
      "6066     44369.0  135 08 0A 629.00  RESIDENTIAL CONDO     629  LONGHUNTER CT, NASHVILLE 2016-02-26    94000.0  20160304-0021004           No                            None                                 None  ...        NaN      NaN       NaN       NaN         2016-02-26     629  LONGHUNTER CT          NASHVILLE                None            None            None\n",
      "19686    34844.0  053 09 0A 009.00      ZERO LOT LINE         1424  E CEDAR LN, MADISON 2015-07-30    97000.0  20150805-0077788           No                            None                                 None  ...        NaN      NaN       NaN       NaN         2015-07-30       1424  E CEDAR LN            MADISON                None            None            None\n",
      "35177    18944.0   081 08 0 228.00      SINGLE FAMILY        1819  6TH AVE N, NASHVILLE 2014-07-02   368000.0  20140703-0058884           No           WILLIAMS, MAKENZIE A.       1819  6TH AVE N, NASHVILLE, TN  ...     2007.0      3.0       2.0       1.0         2014-07-02        1819  6TH AVE N          NASHVILLE     1819  6TH AVE N       NASHVILLE              TN\n",
      "16480    15759.0   044 14 0 038.00      SINGLE FAMILY   271  MARTINGALE DR, OLD HICKORY 2014-05-08   137000.0  20140523-0044573           No                 DYE, WILLIAM B.  271  MARTINGALE DR, OLD HICKORY, TN  ...     1947.0      2.0       2.0       1.0         2014-05-08     271  MARTINGALE DR        OLD HICKORY  271  MARTINGALE DR     OLD HICKORY              TN\n",
      "7905     24883.0  142 04 0A 030.00  RESIDENTIAL CONDO  210  OLD HICKORY BLVD, NASHVILLE 2014-12-01    64000.0  20141202-0110421           No                            None                                 None  ...        NaN      NaN       NaN       NaN         2014-12-01  210  OLD HICKORY BLVD          NASHVILLE                None            None            None\n",
      "31004    40808.0  072 14 0I 003.00  RESIDENTIAL CONDO      1302  CHESTER AVE, NASHVILLE 2015-11-20   290182.0  20151204-0122266           No                            None                                 None  ...        NaN      NaN       NaN       NaN         2015-11-20      1302  CHESTER AVE          NASHVILLE                None            None            None\n",
      "39056     4727.0   083 08 0 199.00      SINGLE FAMILY      1031  MITCHELL RD, NASHVILLE 2013-06-27   299900.0  20130703-0068802           No  CARTER, BRETT R. & VIRGINIA W.     1031  MITCHELL RD, NASHVILLE, TN  ...     1960.0      3.0       2.0       1.0         2013-06-27      1031  MITCHELL RD          NASHVILLE   1031  MITCHELL RD       NASHVILLE              TN\n",
      "27852    46258.0  173 09 0A 530.00      SINGLE FAMILY   9034  RIGDEN MILL DR, NASHVILLE 2016-04-22   199500.0  20160426-0040274           No                            None                                 None  ...        NaN      NaN       NaN       NaN         2016-04-22   9034  RIGDEN MILL DR          NASHVILLE                None            None            None\n",
      "46033    49192.0   095 11 0 188.00             DUPLEX     2417 WOODBERRY  DR, NASHVILLE 2016-05-06   265000.0  20160510-0046571           No              BEAIRD, ELI & CORI    2417  WOODBERRY DR, NASHVILLE, TN  ...     1958.0      3.0       3.0       NaN         2016-05-06     2417 WOODBERRY  DR          NASHVILLE  2417  WOODBERRY DR       NASHVILLE              TN\n",
      "54718    24726.0  116 12 0K 001.00  RESIDENTIAL CONDO       3900  WALLACE LN, NASHVILLE 2014-12-01   237500.0  20141203-0110858           No                            None                                 None  ...        NaN      NaN       NaN       NaN         2014-12-01       3900  WALLACE LN          NASHVILLE                None            None            None\n",
      "\n",
      "[10 rows x 25 columns]\n"
     ]
    }
   ],
   "source": [
    "# Conecta a la base de datos\n",
    "conexion = conexion_sql_server()\n",
    "\n",
    "pd.set_option('display.expand_frame_repr', False) #! Muestra los resultados de manera horizontal.\n",
    "\n",
    "# Realizamos la consulta y obtenemos los resultados en un DataFrame\n",
    "df = select_to_df('''SELECT *\n",
    "                  FROM NashvilleHousing;''', conexion)\n",
    "\n",
    "# Muestra el DataFrame\n",
    "print(df.sample(10))\n",
    "\n",
    "#! Volvemos a ejecutar el codigo y al haber sido actualizado, nos deberia aparecer las 3 nuevas columnas creadas \"OwnerSplitAddress\" \"OwnerSplitCity\" \"OwnerSplitState\"."
   ]
  },
  {
   "cell_type": "code",
   "execution_count": 35,
   "metadata": {},
   "outputs": [
    {
     "data": {
      "text/plain": [
       "'\\nChange Y and N to Yes and No in \"Sold as Vacant\" field\\n'"
      ]
     },
     "execution_count": 35,
     "metadata": {},
     "output_type": "execute_result"
    }
   ],
   "source": [
    "'''\n",
    "Change Y and N to Yes and No in \"Sold as Vacant\" field\n",
    "'''"
   ]
  },
  {
   "cell_type": "code",
   "execution_count": 36,
   "metadata": {},
   "outputs": [
    {
     "name": "stdout",
     "output_type": "stream",
     "text": [
      "  SoldAsVacant  CountSoldAsVacant\n",
      "0          Yes               4675\n",
      "1           No              51802\n"
     ]
    }
   ],
   "source": [
    "# Conecta a la base de datos\n",
    "conexion = conexion_sql_server()\n",
    "\n",
    "pd.set_option('display.expand_frame_repr', False) #! Muestra los resultados de manera horizontal.\n",
    "\n",
    "# Realizamos la consulta y obtenemos los resultados en un DataFrame\n",
    "df = select_to_df('''SELECT DISTINCT (SoldAsVacant), COUNT (SoldAsVacant) AS CountSoldAsVacant\n",
    "                        FROM NashvilleHousing\n",
    "                        GROUP BY SoldAsVacant\n",
    "                        ORDER BY 2;''', conexion)\n",
    "\n",
    "# Muestra el DataFrame\n",
    "print(df)\n",
    "\n",
    "#! Filtramos los valores unicos de la columna \"SoldAsVacant\".\n",
    "#! Hacemos un coreo de los valores unicos de la columna \"SoldAsVacant\".\n",
    "#! Agrupamos los valores por medio de la columna \"SoldAsVacant\".\n",
    "#! Ordenamos los valores."
   ]
  },
  {
   "cell_type": "code",
   "execution_count": 37,
   "metadata": {},
   "outputs": [
    {
     "name": "stdout",
     "output_type": "stream",
     "text": [
      "      SoldAsVacant     \n",
      "44390           No   No\n",
      "44177           No   No\n",
      "8873            No   No\n",
      "36163           No   No\n",
      "16865           No   No\n",
      "36968           No   No\n",
      "5847            No   No\n",
      "40189           No   No\n",
      "684             No   No\n",
      "82              No   No\n",
      "1217            No   No\n",
      "15267           No   No\n",
      "15777           No   No\n",
      "49605           No   No\n",
      "27615          Yes  Yes\n"
     ]
    }
   ],
   "source": [
    "# Conecta a la base de datos\n",
    "conexion = conexion_sql_server()\n",
    "\n",
    "pd.set_option('display.expand_frame_repr', False) #! Muestra los resultados de manera horizontal.\n",
    "\n",
    "# Realizamos la consulta y obtenemos los resultados en un DataFrame\n",
    "df = select_to_df('''SELECT SoldAsVacant\n",
    "                  , CASE When SoldAsVacant = 'Y' THEN 'Yes'\n",
    "                        WHEN SoldAsVacant = 'N' THEN 'No'\n",
    "                        ELSE SoldAsVacant\n",
    "                        END\n",
    "                    FROM NashvilleHousing;''', conexion)\n",
    "\n",
    "# Muestra el DataFrame\n",
    "print(df.sample(15))\n",
    "\n",
    "#! Revisamos la columna con errores y generamos una nueva con los cambios, para ver si el codigo funciona.\n",
    "#! Si este funciona, como es en nuestro caso, aplicamos lo indicado a la tabla original."
   ]
  },
  {
   "cell_type": "code",
   "execution_count": 38,
   "metadata": {},
   "outputs": [
    {
     "name": "stdout",
     "output_type": "stream",
     "text": [
      "Actualización de tabla Exitosa\n"
     ]
    }
   ],
   "source": [
    "# Parámetros de conexión\n",
    "server = 'DESKTOP-CK3D4E3\\\\SQLEXPRESS02'\n",
    "database = 'PORTFOLIO_PROYECT'\n",
    "#username = 'tu_usuario'\n",
    "#password = 'tu_contraseña'\n",
    "\n",
    "# Llevamos a cabo la conexión con el servidor\n",
    "\n",
    "conexion = podbc.connect(driver= '{SQL server}', Database= '{PORTFOLIO_PROYECT}', host = server)\n",
    "\n",
    "print(\"Actualización de tabla Exitosa\")\n",
    "\n",
    "# Crear un cursor\n",
    "cursor = conexion.cursor()\n",
    "\n",
    "# Crear la tabla\n",
    "create_table_query = '''\n",
    "                    UPDATE NashvilleHousing\n",
    "                        SET SoldAsVacant = CASE When SoldAsVacant = 'Y' THEN 'Yes'\n",
    "                        WHEN SoldAsVacant = 'N' THEN 'No'\n",
    "                        ELSE SoldAsVacant\n",
    "                        END;\n",
    "                        '''\n",
    "\n",
    "# EmployeeID INT PRIMARY KEY, \"Nos permite considerar la columna como la llave primaria\"\n",
    "\n",
    "cursor.execute(create_table_query)\n",
    "\n",
    "# Nos aseguramos de cerrar la conexión\n",
    "\n",
    "conexion.commit()\n",
    "conexion.close()\n",
    "\n",
    "#! Nos permite actualizar nuestra tabla, en nuestro ejemplo es \"NashvilleHousing\".\n",
    "#! Paso:1\n",
    "#! Actualizamos los valores de la columna \"SoldAsVacant\", cambiamos los 'N' por 'No', asi como los 'Y' por 'Yes'. "
   ]
  },
  {
   "cell_type": "code",
   "execution_count": 39,
   "metadata": {},
   "outputs": [
    {
     "name": "stdout",
     "output_type": "stream",
     "text": [
      "  SoldAsVacant  CountSoldAsVacant\n",
      "0          Yes               4675\n",
      "1           No              51802\n"
     ]
    }
   ],
   "source": [
    "# Conecta a la base de datos\n",
    "conexion = conexion_sql_server()\n",
    "\n",
    "pd.set_option('display.expand_frame_repr', False) #! Muestra los resultados de manera horizontal.\n",
    "\n",
    "# Realizamos la consulta y obtenemos los resultados en un DataFrame\n",
    "df = select_to_df('''SELECT DISTINCT (SoldAsVacant), COUNT (SoldAsVacant) AS CountSoldAsVacant\n",
    "                        FROM NashvilleHousing\n",
    "                        GROUP BY SoldAsVacant\n",
    "                        ORDER BY 2;''', conexion)\n",
    "\n",
    "# Muestra el DataFrame\n",
    "print(df)\n",
    "\n",
    "#! Cambiamos los valores de la tabla \"SoldAsVacant\".\n",
    "#! Valor 'N' por 'No', valor 'Y' por 'Yes'."
   ]
  },
  {
   "cell_type": "code",
   "execution_count": 40,
   "metadata": {},
   "outputs": [
    {
     "data": {
      "text/plain": [
       "'\\nRemove Duplicates\\n'"
      ]
     },
     "execution_count": 40,
     "metadata": {},
     "output_type": "execute_result"
    }
   ],
   "source": [
    "'''\n",
    "Remove Duplicates\n",
    "'''"
   ]
  },
  {
   "cell_type": "code",
   "execution_count": 41,
   "metadata": {},
   "outputs": [
    {
     "name": "stdout",
     "output_type": "stream",
     "text": [
      "     UniqueID           ParcelID            LandUse                    PropertyAddress   SaleDate  SalePrice    LegalReference SoldAsVacant                         OwnerName                       OwnerAddress  ...  Bedrooms FullBath  HalfBath  SaleDateConverted    PropertySplitAddress  PropertySplitCity     OwnerSplitAddress  OwnerSplitCity  OwnerSplitState row_num\n",
      "0      27354.0   107 14 0 157.00      SINGLE FAMILY       1003  BRILEY PKWY, NASHVILLE 2015-02-12    80000.0  20150219-0014347           No                  GREEN, KASSANDRA   1003  BRILEY PKWY, NASHVILLE, TN  ...       2.0      2.0       0.0         2015-02-12       1003  BRILEY PKWY          NASHVILLE     1003  BRILEY PKWY       NASHVILLE               TN       2\n",
      "1      27383.0   150 04 0 144.00      SINGLE FAMILY      1005  ESTURBRIDGE CT, ANTIOCH 2015-02-13   180000.0  20150213-0013547           No                       TINNEY, STU  1005  ESTURBRIDGE CT, ANTIOCH, TN  ...       4.0      3.0       0.0         2015-02-13    1005  ESTURBRIDGE CT            ANTIOCH  1005  ESTURBRIDGE CT         ANTIOCH               TN       2\n",
      "2      27362.0   119 16 0 084.00             DUPLEX       1006  DRUMMOND DR, NASHVILLE 2015-02-17    80000.0  20150218-0014086           No                       POST, KEVIN   1006  DRUMMOND DR, NASHVILLE, TN  ...       4.0      3.0       0.0         2015-02-17       1006  DRUMMOND DR          NASHVILLE     1006  DRUMMOND DR       NASHVILLE               TN       2\n",
      "3      27132.0   091 08 0 056.00      SINGLE FAMILY        1011  43RD AVE N, NASHVILLE 2015-02-23    69900.0  20150227-0017102           No              MENDING HEARTS, INC.    1011  43RD AVE N, NASHVILLE, TN  ...       3.0      2.0       0.0         2015-02-23        1011  43RD AVE N          NASHVILLE      1011  43RD AVE N       NASHVILLE               TN       2\n",
      "4      27368.0  135 10 0E 020.00  RESIDENTIAL CONDO  1023  CAPITAL FUNDS CT, NASHVILLE 2015-02-06   118981.0  20150210-0012380           No                              None                               None  ...       NaN      NaN       NaN         2015-02-06  1023  CAPITAL FUNDS CT          NASHVILLE                  None            None             None       2\n",
      "..         ...               ...                ...                                ...        ...        ...               ...          ...                               ...                                ...  ...       ...      ...       ...                ...                     ...                ...                   ...             ...              ...     ...\n",
      "99     12702.0  175 06 0A 026.00      SINGLE FAMILY       904  BIRCHMILL PT S, ANTIOCH 2014-02-03   112000.0  20140205-0010116           No                              None                               None  ...       NaN      NaN       NaN         2014-02-03     904  BIRCHMILL PT S            ANTIOCH                  None            None             None       2\n",
      "100    27135.0   091 10 0 379.00      SINGLE FAMILY          906  DELRAY DR, NASHVILLE 2015-02-13   120000.0  20150218-0014209           No  DIAZ, JONATHAN A. & ELIZABETH G.      906  DELRAY DR, NASHVILLE, TN  ...       2.0      1.0       0.0         2015-02-13          906  DELRAY DR          NASHVILLE        906  DELRAY DR       NASHVILLE               TN       2\n",
      "101    27378.0  149 04 0A 010.00      SINGLE FAMILY        908  TOWNVIEW PL, NASHVILLE 2015-02-06   138900.0  20150210-0012194           No                              None                               None  ...       NaN      NaN       NaN         2015-02-06        908  TOWNVIEW PL          NASHVILLE                  None            None             None       2\n",
      "102    12620.0  107 13 0A 026.00  RESIDENTIAL CONDO         926  COARSEY DR, NASHVILLE 2014-02-05    25000.0  20140207-0011111           No                              None                               None  ...       NaN      NaN       NaN         2014-02-05         926  COARSEY DR          NASHVILLE                  None            None             None       2\n",
      "103    27361.0   119 16 0 080.00      SINGLE FAMILY        934  DRUMMOND DR, NASHVILLE 2015-02-13   139000.0  20150218-0013634           No                FORD, KELLY JOSEPH    934  DRUMMOND DR, NASHVILLE, TN  ...       2.0      1.0       0.0         2015-02-13        934  DRUMMOND DR          NASHVILLE      934  DRUMMOND DR       NASHVILLE               TN       2\n",
      "\n",
      "[104 rows x 26 columns]\n"
     ]
    }
   ],
   "source": [
    "# Conecta a la base de datos\n",
    "conexion = conexion_sql_server()\n",
    "\n",
    "pd.set_option('display.expand_frame_repr', False) #! Muestra los resultados de manera horizontal.\n",
    "\n",
    "# Realizamos la consulta y obtenemos los resultados en un DataFrame\n",
    "df = select_to_df('''WITH RowNumCTE AS (\n",
    "                        SELECT *,\n",
    "                            ROW_NUMBER () OVER (\n",
    "                            PARTITION BY ParcelID,\n",
    "                                        PropertyAddress,\n",
    "                                        SalePrice,\n",
    "                                        SaleDate,\n",
    "                                        LegalReference\n",
    "                                        ORDER BY\n",
    "                                            UniqueID\n",
    "                                            ) row_num\n",
    "                        FROM NashvilleHousing\n",
    "                        )\n",
    "                        SELECT *\n",
    "                        FROM RowNumCTE\n",
    "                        WHERE row_num > 1\n",
    "                        ORDER BY PropertyAddress;''', conexion)\n",
    "\n",
    "# Muestra el DataFrame\n",
    "print(df.sample(10))\n",
    "\n",
    "#! Nos muestra los valores mayores a 1, haciendo referencia a la columna \"row_num\"."
   ]
  },
  {
   "cell_type": "code",
   "execution_count": 45,
   "metadata": {},
   "outputs": [
    {
     "name": "stdout",
     "output_type": "stream",
     "text": [
      "Eliminación de duplicados, Exitoso\n"
     ]
    }
   ],
   "source": [
    "# Parámetros de conexión\n",
    "server = 'DESKTOP-CK3D4E3\\\\SQLEXPRESS02'\n",
    "database = 'PORTFOLIO_PROYECT'\n",
    "#username = 'tu_usuario'\n",
    "#password = 'tu_contraseña'\n",
    "\n",
    "# Llevamos a cabo la conexión con el servidor\n",
    "\n",
    "conexion = podbc.connect(driver= '{SQL server}', Database= '{PORTFOLIO_PROYECT}', host = server)\n",
    "\n",
    "print(\"Eliminación de duplicados, Exitoso\")\n",
    "\n",
    "# Crear un cursor\n",
    "cursor = conexion.cursor()\n",
    "\n",
    "# Crear la tabla\n",
    "create_table_query = '''WITH RowNumCTE AS (\n",
    "                        SELECT *,\n",
    "                            ROW_NUMBER () OVER (\n",
    "                            PARTITION BY ParcelID,\n",
    "                                        PropertyAddress,\n",
    "                                        SalePrice,\n",
    "                                        SaleDate,\n",
    "                                        LegalReference\n",
    "                                        ORDER BY\n",
    "                                            UniqueID\n",
    "                                            ) row_num\n",
    "                        FROM NashvilleHousing\n",
    "                        )\n",
    "                        DELETE\n",
    "                        FROM RowNumCTE\n",
    "                        WHERE row_num > 1;\n",
    "'''\n",
    "\n",
    "# EmployeeID INT PRIMARY KEY, \"Nos permite considerar la columna como la llave primaria\"\n",
    "\n",
    "cursor.execute(create_table_query)\n",
    "\n",
    "# Nos aseguramos de cerrar la conexión\n",
    "\n",
    "conexion.commit()\n",
    "conexion.close()\n",
    "\n",
    "# Nos permite eliminar los valores duplicados, en nuestro ejercicio son 104 filas"
   ]
  },
  {
   "cell_type": "code",
   "execution_count": 60,
   "metadata": {},
   "outputs": [
    {
     "name": "stdout",
     "output_type": "stream",
     "text": [
      "(56373, 25)\n"
     ]
    }
   ],
   "source": [
    "# Conecta a la base de datos\n",
    "conexion = conexion_sql_server()\n",
    "\n",
    "pd.set_option('display.expand_frame_repr', False) #! Muestra los resultados de manera horizontal.\n",
    "\n",
    "# Realizamos la consulta y obtenemos los resultados en un DataFrame\n",
    "df = select_to_df('''Select*\n",
    "                        From NashvilleHousing;''', conexion)\n",
    "\n",
    "# Muestra el DataFrame\n",
    "print(df.shape)\n",
    "\n",
    "#! Nos permite saber cuantas filas y columnas tenemos en nuestro data frame."
   ]
  },
  {
   "cell_type": "code",
   "execution_count": 61,
   "metadata": {},
   "outputs": [
    {
     "data": {
      "text/plain": [
       "'\\nDelete unused columns\\n'"
      ]
     },
     "execution_count": 61,
     "metadata": {},
     "output_type": "execute_result"
    }
   ],
   "source": [
    "'''\n",
    "Delete unused columns\n",
    "'''"
   ]
  },
  {
   "cell_type": "code",
   "execution_count": 62,
   "metadata": {},
   "outputs": [
    {
     "name": "stdout",
     "output_type": "stream",
     "text": [
      "Actualización de tabla Exitosa\n"
     ]
    }
   ],
   "source": [
    "# Parámetros de conexión\n",
    "server = 'DESKTOP-CK3D4E3\\\\SQLEXPRESS02'\n",
    "database = 'PORTFOLIO_PROYECT'\n",
    "#username = 'tu_usuario'\n",
    "#password = 'tu_contraseña'\n",
    "\n",
    "# Llevamos a cabo la conexión con el servidor\n",
    "\n",
    "conexion = podbc.connect(driver= '{SQL server}', Database= '{PORTFOLIO_PROYECT}', host = server)\n",
    "\n",
    "print(\"Eliminación de columnas Exitosa\")\n",
    "\n",
    "# Crear un cursor\n",
    "cursor = conexion.cursor()\n",
    "\n",
    "# Crear la tabla\n",
    "create_table_query = '''ALTER TABLE NashvilleHousing\n",
    "                            DROP COLUMN OwnerAddress, TaxDistrict,\n",
    "                            PropertyAddress, SaleDate;\n",
    "                            '''\n",
    "\n",
    "# EmployeeID INT PRIMARY KEY, \"Nos permite considerar la columna como la llave primaria\"\n",
    "\n",
    "cursor.execute(create_table_query)\n",
    "\n",
    "# Nos aseguramos de cerrar la conexión\n",
    "\n",
    "conexion.commit()\n",
    "conexion.close()\n",
    "\n",
    "#! Nos permite eliminar las columnas seleccionadas en nuestra consulta."
   ]
  },
  {
   "cell_type": "code",
   "execution_count": 64,
   "metadata": {},
   "outputs": [
    {
     "name": "stdout",
     "output_type": "stream",
     "text": [
      "(56373, 21)\n"
     ]
    }
   ],
   "source": [
    "# Conecta a la base de datos\n",
    "conexion = conexion_sql_server()\n",
    "\n",
    "pd.set_option('display.expand_frame_repr', False) #! Muestra los resultados de manera horizontal.\n",
    "\n",
    "# Realizamos la consulta y obtenemos los resultados en un DataFrame\n",
    "df = select_to_df('''Select*\n",
    "                        From NashvilleHousing;''', conexion)\n",
    "\n",
    "# Muestra el DataFrame\n",
    "print(df.shape)\n",
    "\n",
    "#! Nos permite saber cuantas filas y columnas tenemos en nuestro data frame."
   ]
  },
  {
   "cell_type": "code",
   "execution_count": null,
   "metadata": {},
   "outputs": [],
   "source": []
  },
  {
   "cell_type": "code",
   "execution_count": null,
   "metadata": {},
   "outputs": [],
   "source": []
  },
  {
   "cell_type": "code",
   "execution_count": null,
   "metadata": {},
   "outputs": [],
   "source": []
  },
  {
   "cell_type": "code",
   "execution_count": null,
   "metadata": {},
   "outputs": [],
   "source": []
  },
  {
   "cell_type": "code",
   "execution_count": null,
   "metadata": {},
   "outputs": [],
   "source": []
  },
  {
   "cell_type": "code",
   "execution_count": null,
   "metadata": {},
   "outputs": [],
   "source": []
  },
  {
   "cell_type": "code",
   "execution_count": null,
   "metadata": {},
   "outputs": [],
   "source": []
  },
  {
   "cell_type": "code",
   "execution_count": null,
   "metadata": {},
   "outputs": [],
   "source": []
  },
  {
   "cell_type": "code",
   "execution_count": null,
   "metadata": {},
   "outputs": [],
   "source": []
  },
  {
   "cell_type": "code",
   "execution_count": null,
   "metadata": {},
   "outputs": [],
   "source": []
  },
  {
   "cell_type": "code",
   "execution_count": null,
   "metadata": {},
   "outputs": [],
   "source": []
  },
  {
   "cell_type": "code",
   "execution_count": null,
   "metadata": {},
   "outputs": [],
   "source": []
  },
  {
   "cell_type": "code",
   "execution_count": null,
   "metadata": {},
   "outputs": [],
   "source": []
  }
 ],
 "metadata": {
  "kernelspec": {
   "display_name": "Python 3",
   "language": "python",
   "name": "python3"
  },
  "language_info": {
   "codemirror_mode": {
    "name": "ipython",
    "version": 3
   },
   "file_extension": ".py",
   "mimetype": "text/x-python",
   "name": "python",
   "nbconvert_exporter": "python",
   "pygments_lexer": "ipython3",
   "version": "3.12.0"
  }
 },
 "nbformat": 4,
 "nbformat_minor": 2
}
